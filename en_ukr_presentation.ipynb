version https://git-lfs.github.com/spec/v1
oid sha256:4d8df45b14cbc0984a4a4a729a808577b75c11c6a33aaaa9a590dab40ea091f1
size 7722847
