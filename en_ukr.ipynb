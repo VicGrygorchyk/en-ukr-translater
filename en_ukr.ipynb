version https://git-lfs.github.com/spec/v1
oid sha256:23e36aeac96b003aa3dd1e154b9570ba386aeb6535c5e6e64e2c50035ca6f516
size 11438985
