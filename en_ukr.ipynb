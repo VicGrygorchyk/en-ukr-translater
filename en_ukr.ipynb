version https://git-lfs.github.com/spec/v1
oid sha256:7f64631c10422a99e0122a0f27dcbe1a192d6afe0aa29290a44304200f1c363d
size 11436998
